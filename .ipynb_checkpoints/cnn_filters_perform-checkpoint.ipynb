{
 "cells": [
  {
   "cell_type": "code",
   "execution_count": 2,
   "metadata": {},
   "outputs": [],
   "source": [
    "import tensorflow as tf\n",
    "import matplotlib.pyplot as plt\n",
    "import numpy as np"
   ]
  },
  {
   "cell_type": "code",
   "execution_count": 3,
   "metadata": {},
   "outputs": [],
   "source": [
    "BTN_SOBEL = np.array([[-1.,-2.,-1.], [0.,0.,0.], [1.,2.,1.]])\n",
    "TOP_SOBEL = np.array([[0.,0.,0.], [0.,1.,0.], [0.,0.,0.]])\n",
    "IDENDITY = np.array([[-1.,-2.,-1.], [0.,0.,0.], [1.,2.,1.]])\n",
    "LFT_SOBEL = np.array([[1.,0.,-1.], [2.,0.,-2.], [1.,2.,-1.]])\n",
    "SHARPEN = np.array([[0.,-1.,0.], [-1.,5.,-1.], [0.,-1.,0.]])\n",
    "OUTLINE = np.array([[-1.,-1.,-1.], [-1.,8.,-1.], [-1.,-1.,-1.]])"
   ]
  },
  {
   "cell_type": "code",
   "execution_count": 3,
   "metadata": {},
   "outputs": [],
   "source": [
    "def convolution(image_path, filter_weights):\n",
    "    weights = tf.placeholder(tf.float32, shape=(3,3))\n",
    "    \n",
    "    image_content = tf.read_file(image_path)\n",
    "    image = tf.image.decode_image(image_content, channels=3)\n",
    "    image = tf.image.rgb_to_grayscale(image)\n",
    "    image = tf.image.convert_image_dtype([image], tf.float32)\n",
    "\n",
    "    filters = tf.reshape(weights, shape=[3,3,1,1])\n",
    "    stride = [1,1,1,1]\n",
    "    conv_out = tf.nn.conv2d(image, filters, strides=stride, padding='SAME')\n",
    "    \n",
    "    with tf.Session() as sess:\n",
    "        img = sess.run(conv_out, feed_dict={weights: filter_weights})\n",
    "        return img"
   ]
  },
  {
   "cell_type": "code",
   "execution_count": 4,
   "metadata": {},
   "outputs": [
    {
     "ename": "SyntaxError",
     "evalue": "invalid syntax (<ipython-input-4-cb8e46ddf610>, line 2)",
     "output_type": "error",
     "traceback": [
      "\u001b[0;36m  File \u001b[0;32m\"<ipython-input-4-cb8e46ddf610>\"\u001b[0;36m, line \u001b[0;32m2\u001b[0m\n\u001b[0;31m    filters = [\"bottm sobel\": BTN_SOBEL, TOP_SOBEL, LFT_SOBEL, OUTLINE]\u001b[0m\n\u001b[0m                            ^\u001b[0m\n\u001b[0;31mSyntaxError\u001b[0m\u001b[0;31m:\u001b[0m invalid syntax\n"
     ]
    }
   ],
   "source": [
    "fig, axes = plt.subplots(2, 2)\n",
    "filters = [\"bottm_sobel\": BTN_SOBEL, \"top_sobel\":TOP_SOBEL, \"left_sobel\":LFT_SOBEL, \"out_line\":OUTLINE]\n",
    "image_abspath = \"tiger.jpg\"\n",
    "\n",
    "with tf.Session() as sess:\n",
    "    for index, item in enumerate(filters):\n",
    "        img = convolution(image_abspath, filters[item])\n",
    "        axes[index//2, index%2].imshow(img[0][:,:,0], cmap='gray')\n",
    "        axes.title(item,fontsize=fontsize,verticalalignment='bottom')"
   ]
  },
  {
   "cell_type": "code",
   "execution_count": 5,
   "metadata": {},
   "outputs": [],
   "source": [
    "filters = {\"bottm_sobel\": BTN_SOBEL, \"top_sobel\":TOP_SOBEL, \"left_sobel\":LFT_SOBEL, \"out_line\":OUTLINE}"
   ]
  },
  {
   "cell_type": "code",
   "execution_count": 9,
   "metadata": {},
   "outputs": [
    {
     "name": "stdout",
     "output_type": "stream",
     "text": [
      "[[-1. -1. -1.]\n",
      " [-1.  8. -1.]\n",
      " [-1. -1. -1.]]\n",
      "[[-1. -2. -1.]\n",
      " [ 0.  0.  0.]\n",
      " [ 1.  2.  1.]]\n",
      "[[0. 0. 0.]\n",
      " [0. 1. 0.]\n",
      " [0. 0. 0.]]\n",
      "[[ 1.  0. -1.]\n",
      " [ 2.  0. -2.]\n",
      " [ 1.  2. -1.]]\n"
     ]
    }
   ],
   "source": [
    "for index, i in enumerate(filters):\n",
    "    print(filters[i])"
   ]
  },
  {
   "cell_type": "code",
   "execution_count": null,
   "metadata": {},
   "outputs": [],
   "source": []
  }
 ],
 "metadata": {
  "kernelspec": {
   "display_name": "Python 3",
   "language": "python",
   "name": "python3"
  },
  "language_info": {
   "codemirror_mode": {
    "name": "ipython",
    "version": 3
   },
   "file_extension": ".py",
   "mimetype": "text/x-python",
   "name": "python",
   "nbconvert_exporter": "python",
   "pygments_lexer": "ipython3",
   "version": "3.5.2"
  }
 },
 "nbformat": 4,
 "nbformat_minor": 2
}
